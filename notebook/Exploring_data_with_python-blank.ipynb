{
 "cells": [
  {
   "cell_type": "markdown",
   "id": "7d815889-4d61-4bd3-9903-d96f4fceae3b",
   "metadata": {
    "slideshow": {
     "slide_type": "slide"
    },
    "tags": []
   },
   "source": [
    "***\n",
    "# Brunei MYCE 2022 \n",
    "## Workshop: Exploring Data with Python\n",
    "## Date: 11th June 2022\n"
   ]
  },
  {
   "cell_type": "markdown",
   "id": "6130c85c-07b9-440f-b23d-7c52de9c1c32",
   "metadata": {
    "slideshow": {
     "slide_type": "fragment"
    },
    "tags": []
   },
   "source": [
    "***\n",
    "# <ins>Workshop content</ins>\n",
    "\n",
    "- Python\n",
    "    - Isn't it just a snake?\n",
    "- Common libraries for data exploration\n",
    "    - pandas, numpy - for tabular data\n",
    "    - numpy, scipy, scikit-learn - statistics, machine learning models\n",
    "- Data wrangling\n",
    "    - Example - Brunei's Chicken meat statistics\n",
    "- Data exploration & visualisation\n",
    "    - Basic statistics\n",
    "- Modelling\n",
    "    - trend analysis\n",
    "- Looking back at the helicopter experiment\n",
    "- What's next?"
   ]
  },
  {
   "cell_type": "markdown",
   "id": "b16acc44-5d0d-4087-9d30-ae57362432fb",
   "metadata": {
    "slideshow": {
     "slide_type": "slide"
    },
    "tags": []
   },
   "source": [
    "***\n",
    "# ![Python image](https://www.python.org/static/img/python-logo.png)\n",
    "Image sources : [Python webpage](https://www.python.org)\n",
    "- Taken from the official page\n",
    "> \"Python is a programming language that lets you work more quickly and integrate your systems more effectively.\"\n",
    "- Open-source\n",
    "- Top programming language for data scientists, according to this [Datacamp](https://www.datacamp.com/blog/top-programming-languages-for-data-scientists-in-2022) article\n",
    "- Plenty of libraries to choose from"
   ]
  },
  {
   "cell_type": "markdown",
   "id": "4659ed97-4502-49ca-b96e-6da21d80868e",
   "metadata": {
    "slideshow": {
     "slide_type": "slide"
    },
    "tags": []
   },
   "source": [
    "***\n",
    "# Common Python libraries for data exploration\n",
    "## Pandas https://pandas.pydata.org\n",
    "> pandas is a fast, powerful, flexible and easy to use open source data analysis and manipulation tool, built on top of the Python programming language.\n",
    "- A common library to analyse structured tabular data, e.g. excel, SQL tables etc.\n",
    "    \n",
    "## Numpy https://numpy.org\n",
    "> The fundamental package for scientific computing with Python\n",
    "- A common library for handling and manipulating arrays, pandas is using this in the background.\n",
    "\n",
    "## SciPy https://scipy.org/\n",
    "> Fundamental algorithms for scientific computing in Python\n",
    "- Contains useful and optimized algorithms for modelling/analysing data\n",
    "\n",
    "## Scikit-learn https://scikit-learn.org/\n",
    "> - Simple and efficient tools for predictive data analysis\n",
    "> - Accessible to everybody, and reusable in various contexts\n",
    "> - Built on NumPy, SciPy, and matplotlib\n",
    "> - Open source, commercially usable - BSD license\n",
    "- Contains libraries for machine learning\n",
    "\n",
    "## Other notable libraries for neural networks\n",
    "- tensorflow https://www.tensorflow.org/\n",
    "- keras https://keras.io/\n"
   ]
  },
  {
   "cell_type": "markdown",
   "id": "4ff1bb92-fb2e-46fe-b3a6-18d86aeb5b10",
   "metadata": {},
   "source": [
    "***\n",
    "# Common Python libraries for data visualisation\n",
    "## Matplotlib https://matplotlib.org/\n",
    "> Matplotlib is a comprehensive library for creating static, animated, and interactive visualizations in Python. Matplotlib makes easy things easy and hard things possible.\n",
    "- A common library for 2d plotting and some 3d plotting capabilities.\n",
    "    \n",
    "## Seaborn https://seaborn.pydata.org/\n",
    "> Seaborn is a Python data visualization library based on matplotlib. It provides a high-level interface for drawing attractive and informative statistical graphics.\n",
    "- Nicer visualisation charts compared to matplotlib."
   ]
  },
  {
   "cell_type": "markdown",
   "id": "dbcca541-ddbc-4309-8090-c8b5043c7506",
   "metadata": {
    "slideshow": {
     "slide_type": "slide"
    },
    "tags": []
   },
   "source": [
    "***\n",
    "# Data wrangling - with example\n",
    "Data source: https://www.data.gov.bn/Pages/index.aspx\n",
    "\n",
    "- Before we can explore the data, we need to read and reformat the data into something usable.\n",
    "- This process is part of data engineering.\n",
    "- For this workshop, we will be using data that is freely available from the data.gov.bn website.\n",
    "- For this example, lets use the [Monthly Local Chicken Meat Production by District 2014-2020](https://www.data.gov.bn/Lists/dataset/mdisplay.aspx?ID=1009)\n",
    "- We need to copy the link to the excel file and store it in a variable"
   ]
  },
  {
   "cell_type": "code",
   "execution_count": null,
   "id": "1e0eb598-f5dc-4f7d-b824-1a5d4bf47ea7",
   "metadata": {
    "slideshow": {
     "slide_type": "fragment"
    },
    "tags": []
   },
   "outputs": [],
   "source": [
    "data_url = 'https://www.data.gov.bn/Lists/dataset/Attachments/1009/Monthly%20Local%20Chicken%20Meat%20Production%20by%20District%20(2014-2020).xlsx'\n"
   ]
  },
  {
   "cell_type": "markdown",
   "id": "12be841a-e799-4303-96f1-e807e104ada6",
   "metadata": {
    "slideshow": {
     "slide_type": "subslide"
    },
    "tags": []
   },
   "source": [
    "- Since this is an excel file, we will use pandas to read in the file.\n",
    "- Don't forget to import the pandas module"
   ]
  },
  {
   "cell_type": "code",
   "execution_count": null,
   "id": "b87df204-41c4-4a8e-a0f3-b65db96e7c68",
   "metadata": {
    "slideshow": {
     "slide_type": "fragment"
    },
    "tags": []
   },
   "outputs": [],
   "source": []
  },
  {
   "cell_type": "markdown",
   "id": "822a5680-2db9-49a0-8d00-199ce3439929",
   "metadata": {},
   "source": [
    "- Let's view the data"
   ]
  },
  {
   "cell_type": "code",
   "execution_count": null,
   "id": "d97e2b86-3fd8-4cd5-9ec7-1a859054c235",
   "metadata": {
    "tags": []
   },
   "outputs": [],
   "source": []
  },
  {
   "cell_type": "markdown",
   "id": "890e7987-5f79-4b53-b190-433dc9e8c854",
   "metadata": {},
   "source": [
    "- Here is the data engineering part"
   ]
  },
  {
   "cell_type": "code",
   "execution_count": null,
   "id": "7f8ddd83-d1e6-4ddd-828f-5420c4ec003f",
   "metadata": {},
   "outputs": [],
   "source": [
    "# Get the district list\n"
   ]
  },
  {
   "cell_type": "code",
   "execution_count": null,
   "id": "d5aa7ad5-877c-4bac-a942-fa5ab12823ad",
   "metadata": {
    "tags": []
   },
   "outputs": [],
   "source": []
  },
  {
   "cell_type": "markdown",
   "id": "489a8ca9-4ae8-44f4-b970-00d6a502359d",
   "metadata": {},
   "source": [
    "- Congratulations.  You have successfully done the data preprocessing."
   ]
  },
  {
   "cell_type": "markdown",
   "id": "b5fb6674-a7b9-4ae4-85a7-78af822382c5",
   "metadata": {},
   "source": [
    "***\n",
    "# Exploring the data... but first some theories\n",
    "## Basic statistics\n",
    "![box_normal](https://www.researchgate.net/publication/340996565/figure/fig3/AS:962186885210119@1606414638167/Box-plot-and-probability-density-function-of-a-normal-distribution.png)<p />\n",
    "Image source (https://www.researchgate.net/figure/Box-plot-and-probability-density-function-of-a-normal-distribution_fig3_340996565)\n",
    "## Some definitions\n",
    "- ## mean\n",
    "    - average value of the distribution\n",
    "- ## median\n",
    "    - the midpoint value in the distribution\n",
    "    - for a normal distribution, **median** = **mean**\n",
    "- ## σ (standard deviation)\n",
    "    - a measure of data spread in the distribution\n",
    "    - Below is how the data is being distributed for a normal distributed data. \n",
    "    - ![standard_dev](https://upload.wikimedia.org/wikipedia/commons/thumb/8/8c/Standard_deviation_diagram.svg/440px-Standard_deviation_diagram.svg.png)\n",
    "    - Image source (https://upload.wikimedia.org/wikipedia/commons/thumb/8/8c/Standard_deviation_diagram.svg/440px-Standard_deviation_diagram.svg.png)\n",
    "    - see also the 68-95-99.7 rule ([wiki](https://en.wikipedia.org/wiki/68%E2%80%9395%E2%80%9399.7_rule))\n",
    "- ## Q1 & Q3 (First and third quartile)\n",
    "    - values at which 25% and 75% of the data is less than the indicated value\n",
    "- ## IQR (Inter-quartile range)\n",
    "    - the distance between Q1 and Q3\n",
    "- ## Outliers\n",
    "    - the data that is more than **Q3 + 1.5 * IQR** or less than **Q1 - 1.5  * IQR**\n"
   ]
  },
  {
   "cell_type": "markdown",
   "id": "149e1879-ba27-410e-8426-f0e8c5b20984",
   "metadata": {},
   "source": [
    "***\n",
    "# Exploring the data\n",
    "- Since we have the data in pandas dataframe, let's start to investigate it via pandas"
   ]
  },
  {
   "cell_type": "code",
   "execution_count": null,
   "id": "9879409a-276a-4972-a5a5-134884db5d5e",
   "metadata": {},
   "outputs": [],
   "source": [
    "# Display the data type via info()\n"
   ]
  },
  {
   "cell_type": "code",
   "execution_count": null,
   "id": "4a1c0211-2f99-4327-80ef-897d42348fbd",
   "metadata": {},
   "outputs": [],
   "source": [
    "# Try to get some statistics out via describe()\n"
   ]
  },
  {
   "cell_type": "code",
   "execution_count": null,
   "id": "66e6167d-bc3b-4f93-9e0a-a45c02a0f950",
   "metadata": {},
   "outputs": [],
   "source": [
    "# Only the year showed up, let's fix these\n"
   ]
  },
  {
   "cell_type": "code",
   "execution_count": null,
   "id": "c91b34bc-3df6-4f2c-ae5f-45bb3febd27c",
   "metadata": {},
   "outputs": [],
   "source": [
    "# Lets look at the unique values for district and month\n"
   ]
  },
  {
   "cell_type": "code",
   "execution_count": null,
   "id": "76be2051-8203-4546-b3ce-a4811c0f7b40",
   "metadata": {},
   "outputs": [],
   "source": [
    "# Let's look at the data in visually using matplotlib\n"
   ]
  },
  {
   "cell_type": "markdown",
   "id": "d4fc1091-8f7a-4952-ae01-2c6b225ae11d",
   "metadata": {},
   "source": [
    "- There are a few issues with the data.\n",
    "- However it is not easy to spot the problems.\n",
    "- We can derive new features based on the existing data.  Hopefully this new feature can easily reveal the errors in the data."
   ]
  },
  {
   "cell_type": "code",
   "execution_count": null,
   "id": "bbd99d0b-58da-4c62-9c23-5b660c4437e6",
   "metadata": {},
   "outputs": [],
   "source": [
    "# Create a new column to store the unit price per kg\n"
   ]
  },
  {
   "cell_type": "code",
   "execution_count": null,
   "id": "8c882df5-89b2-4532-8b32-18c2bca86dd9",
   "metadata": {},
   "outputs": [],
   "source": [
    "# Try plotting the new feature now\n"
   ]
  },
  {
   "cell_type": "markdown",
   "id": "828f14f8-2567-4d7a-9fb1-eca3b29a102b",
   "metadata": {},
   "source": [
    "- From the new feature, what is wrong with the data.?"
   ]
  },
  {
   "cell_type": "markdown",
   "id": "20d8467f-ec68-4e7e-a89b-2e91b63c921f",
   "metadata": {},
   "source": []
  },
  {
   "cell_type": "markdown",
   "id": "a6068790-47dd-42a7-ada8-02c261b3e798",
   "metadata": {},
   "source": [
    "- Now let's fix the problems"
   ]
  },
  {
   "cell_type": "code",
   "execution_count": null,
   "id": "4fefae85-78b3-4726-a55f-8271f4508896",
   "metadata": {},
   "outputs": [],
   "source": [
    "# Wrong Retail_price_BND for Tutong 2019 data\n"
   ]
  },
  {
   "cell_type": "code",
   "execution_count": null,
   "id": "4c940d7d-8a7b-4b03-b281-3d8edf2e5d1f",
   "metadata": {},
   "outputs": [],
   "source": [
    "# Wrong units\n"
   ]
  },
  {
   "cell_type": "code",
   "execution_count": null,
   "id": "46e55d34-1906-4ae0-8f32-020ce4c03a78",
   "metadata": {},
   "outputs": [],
   "source": [
    "# Recalculate unit price\n"
   ]
  },
  {
   "cell_type": "code",
   "execution_count": null,
   "id": "6d229277-f23b-4866-ad8d-ba14747f0cc6",
   "metadata": {},
   "outputs": [],
   "source": [
    "# Replot to verify data is now correct\n"
   ]
  },
  {
   "cell_type": "markdown",
   "id": "0c516a2a-909f-4923-b2dc-b17038283145",
   "metadata": {},
   "source": [
    "- Other things that can be done is to look at the distribution of the data under various metrics.\n",
    "- Let's use seaborn to display the information"
   ]
  },
  {
   "cell_type": "code",
   "execution_count": null,
   "id": "39a6fdb8-ee24-48b3-b3cb-ce0276c157d1",
   "metadata": {},
   "outputs": [],
   "source": [
    "# Use seaborn\n",
    "# Plotting distribution of unit price over the years\n"
   ]
  },
  {
   "cell_type": "code",
   "execution_count": null,
   "id": "c81a2de7-91cc-4f7d-b00d-2152211c16a0",
   "metadata": {},
   "outputs": [],
   "source": [
    "# Plotting distribution of quantity per district\n"
   ]
  },
  {
   "cell_type": "code",
   "execution_count": null,
   "id": "a7163799-b419-4273-9ec1-3b45b7158add",
   "metadata": {},
   "outputs": [],
   "source": [
    "# Plotting distribution of quantity for Temburong only\n"
   ]
  },
  {
   "cell_type": "markdown",
   "id": "3b007115-74dc-42f8-b7d0-512dd54a56d4",
   "metadata": {},
   "source": [
    "***\n",
    "# Data modelling\n",
    "- Once you have explroed the data and sorted out the issues, what do you do next?\n",
    "- This will depend on the questions you have or the problem you want to solve.\n",
    "- Typically, how you answer the question is through data modelling\n"
   ]
  },
  {
   "cell_type": "markdown",
   "id": "a51cc882-cc54-469a-85b3-28edd3d221c4",
   "metadata": {},
   "source": [
    "## Q: Is the meat production increasing over the years? and how much?"
   ]
  },
  {
   "cell_type": "code",
   "execution_count": null,
   "id": "7c97ad86-9f51-4984-af07-82fe765bf7f8",
   "metadata": {},
   "outputs": [],
   "source": [
    "# let's plot the data\n"
   ]
  },
  {
   "cell_type": "markdown",
   "id": "676f26a8-c317-4f15-965e-bcf6dc3613cd",
   "metadata": {},
   "source": [
    "- Is this enough to say yes?"
   ]
  },
  {
   "cell_type": "markdown",
   "id": "35ef1d98-2032-49e1-8b08-1034e194eecd",
   "metadata": {},
   "source": [
    "## Making use of statistics & hypothesis test\n",
    "\n",
    "Looking at the data visually to determine if there is real is not enough.  You have to be sure that there is enough evidence from the data in hand.\n",
    "\n",
    "Linear regression is one way to determine if the slope seen on the data is statistically significant.\n",
    "- Linear regression is a straight line fitting algorithm.\n",
    "- It provides the slope and intercept of the fitted line.\n",
    "- It also provides some other statistics, such as the r-squard and the p-value\n",
    "    - r-squared indicates how predictable the y value based on x, 1 = very predictable, 0 = not predictable\n",
    "    - p-value indicates how significant the slope & intercept are, \n",
    "\n",
    "![image.png](./p_rsquared.png)\n",
    "\n",
    "Below is our hypothesis for the problem.\n",
    "1. null hypothesis => There is no slope\n",
    "2. alternative hyothesis => there is a slope.\n",
    "3. p value cutoff = 0.05\n",
    "\n",
    "Let's make use of linear regression to find the slope and the p value via scipy.stats.linregress"
   ]
  },
  {
   "cell_type": "code",
   "execution_count": null,
   "id": "d22aa23c-2983-4842-b841-57beaa4bead2",
   "metadata": {},
   "outputs": [],
   "source": []
  },
  {
   "cell_type": "markdown",
   "id": "78b51dde-dff2-48fc-af88-c36bd6822d09",
   "metadata": {},
   "source": [
    "- because the p-value is greater than the cutoff value (0.05), we accept the null hypothesis, i.e. there is no slope, based on the data available."
   ]
  },
  {
   "cell_type": "markdown",
   "id": "f586e5f2-f8bd-4a02-910f-63ec8628d018",
   "metadata": {},
   "source": [
    "***\n",
    "# Looking back at the helicopter experiment"
   ]
  },
  {
   "cell_type": "markdown",
   "id": "14cff044-6d4e-46cf-b65d-d917c708a1b0",
   "metadata": {},
   "source": [
    "![image.png](./helicopter.png)\n",
    "\n",
    "- Read the data\n",
    "- reformat into something useful\n",
    "- data exploration\n",
    "- hypothesis testing"
   ]
  },
  {
   "cell_type": "markdown",
   "id": "5d9b1679-69c8-4e0e-a3df-1807ec99366d",
   "metadata": {},
   "source": [
    "***\n",
    "# What's Next"
   ]
  },
  {
   "cell_type": "markdown",
   "id": "64819390-c425-4710-b361-1f09816cab07",
   "metadata": {},
   "source": [
    "- So far, we have only one data source.\n",
    "- Things are more interesting when you start to combine multiple sources of data.\n",
    "    - How do you merge them?\n",
    "    - What features can you derive from them?\n",
    "    - Are they significant enough to solve the problem?\n",
    "- There are a lot of statistical models you could use\n",
    "    - ARIMA (autoregressive integrated moving average, [wiki](https://en.wikipedia.org/wiki/Autoregressive_integrated_moving_average)) can model time-series data, useful for forecasting.\n",
    "    - Classification is useful to desribe data into smaller groups\n",
    "\n",
    "## Key takeaways\n",
    "- Do not trust the data as it is.  Need to understand and verify if they are correct.\n",
    "- Learn from the data, and use the power of statistics to back it up.\n"
   ]
  },
  {
   "cell_type": "code",
   "execution_count": null,
   "id": "c2b3d611-2e6c-4b18-acde-44c85d08f3a6",
   "metadata": {},
   "outputs": [],
   "source": []
  }
 ],
 "metadata": {
  "kernelspec": {
   "display_name": "Python 3",
   "language": "python",
   "name": "python3"
  },
  "language_info": {
   "codemirror_mode": {
    "name": "ipython",
    "version": 3
   },
   "file_extension": ".py",
   "mimetype": "text/x-python",
   "name": "python",
   "nbconvert_exporter": "python",
   "pygments_lexer": "ipython3",
   "version": "3.9.1"
  }
 },
 "nbformat": 4,
 "nbformat_minor": 5
}
